{
 "cells": [
  {
   "cell_type": "markdown",
   "metadata": {},
   "source": [
    "### 01. 匯入套件"
   ]
  },
  {
   "cell_type": "code",
   "execution_count": 1,
   "metadata": {},
   "outputs": [],
   "source": [
    "import os, shutil, glob, PIL\n",
    "from time import sleep\n",
    "from PIL import Image"
   ]
  },
  {
   "cell_type": "markdown",
   "metadata": {},
   "source": [
    "### 02. 建立正樣本資料夾\n",
    "* 判斷資料夾是否存在\n",
    "* 若存在則刪除資料夾\n",
    "* 建立資料夾"
   ]
  },
  {
   "cell_type": "code",
   "execution_count": 2,
   "metadata": {},
   "outputs": [],
   "source": [
    "dirname = \"carPlate\"\n",
    "if os.path.isdir(dirname):\n",
    "    shutil.rmtree(dirname)\n",
    "os.mkdir(dirname)"
   ]
  },
  {
   "cell_type": "markdown",
   "metadata": {},
   "source": [
    "### 03. 正樣本影像更改大小，存於資料夾"
   ]
  },
  {
   "cell_type": "code",
   "execution_count": 3,
   "metadata": {},
   "outputs": [],
   "source": [
    "myfiles = glob.glob(\"Data set/Car_License_Plate/carPlate_sr/*.jpg\")\n",
    "for i, f in enumerate(myfiles):\n",
    "    img = Image.open(f)\n",
    "    imgnew = img.resize((300, 225), PIL.Image.ANTIALIAS)\n",
    "    imgnew.save(dirname+\"/\"+str('{:0>3d}'.format(i+1))+\".bmp\")"
   ]
  },
  {
   "cell_type": "markdown",
   "metadata": {},
   "source": [
    "### 02. 建立負樣本資料夾\n",
    "* 判斷資料夾是否存在\n",
    "* 若存在則刪除資料夾\n",
    "* 建立資料夾"
   ]
  },
  {
   "cell_type": "code",
   "execution_count": 5,
   "metadata": {},
   "outputs": [],
   "source": [
    "dirname = \"nocarPlate\"\n",
    "if os.path.isdir(dirname):\n",
    "    shutil.rmtree(dirname)\n",
    "os.mkdir(dirname)"
   ]
  },
  {
   "cell_type": "code",
   "execution_count": 6,
   "metadata": {},
   "outputs": [],
   "source": [
    "myfiles = glob.glob(\"Data set/Car_License_Plate/carNegative_sr/*.jpg\")\n",
    "for i, f in enumerate(myfiles):\n",
    "    img = Image.open(f)\n",
    "    imgnew = img.resize((500, 375), PIL.Image.ANTIALIAS)\n",
    "    imgnew = imgnew.convert('L')\n",
    "    imgnew.save(dirname+\"/\"+str('{:0>3d}'.format(i+1))+\".bmp\")"
   ]
  }
 ],
 "metadata": {
  "kernelspec": {
   "display_name": "Python 3",
   "language": "python",
   "name": "python3"
  },
  "language_info": {
   "codemirror_mode": {
    "name": "ipython",
    "version": 3
   },
   "file_extension": ".py",
   "mimetype": "text/x-python",
   "name": "python",
   "nbconvert_exporter": "python",
   "pygments_lexer": "ipython3",
   "version": "3.6.10"
  }
 },
 "nbformat": 4,
 "nbformat_minor": 4
}
