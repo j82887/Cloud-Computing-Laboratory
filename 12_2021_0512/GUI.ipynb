{
 "cells": [
  {
   "cell_type": "code",
   "execution_count": 18,
   "metadata": {},
   "outputs": [
    {
     "data": {
      "text/plain": [
       "''"
      ]
     },
     "execution_count": 18,
     "metadata": {},
     "output_type": "execute_result"
    }
   ],
   "source": [
    "import tkinter as tk \n",
    "\n",
    "app = tk.Tk() #建立視窗\n",
    "app.title('FER') #建立視窗標題\n",
    "app.geometry('440x520') #建立視窗大小\n",
    "app.mainloop() #程式開始無限迴圈"
   ]
  },
  {
   "cell_type": "code",
   "execution_count": 20,
   "metadata": {},
   "outputs": [],
   "source": [
    "#建立畫布與位置\n",
    "frame_title = tk.Frame(app)\n",
    "frame_title.grid(column=0, row=0)\n",
    "\n",
    "frame_input = tk.LabelFrame(app, text='Threshold, Image and Display')\n",
    "frame_input.grid(column=0, row=1, sticky=tk.W+tk.N)\n",
    "\n",
    "frame_img = tk.LabelFrame(app, text='Image show')\n",
    "frame_img.grid(column=0, row=2, ipadx=0, sticky=tk.W+tk.N) \n",
    "\n",
    "frame_output = tk.Frame(app)\n",
    "frame_output.grid(column=0, row=3)\n",
    "\n",
    "# 建立標題與位置\n",
    "label_Title = tk.Label(frame_title,text=\"Facial Expression Recognition\")\n",
    "label_Title.grid(column=0, row=0)\n",
    "\n",
    "label_Subtitle = tk.Label(frame_title,text=\"Please enter the threshold and image.\")\n",
    "label_Subtitle.grid(column=0, row=1)"
   ]
  },
  {
   "cell_type": "code",
   "execution_count": 21,
   "metadata": {},
   "outputs": [],
   "source": []
  },
  {
   "cell_type": "code",
   "execution_count": null,
   "metadata": {},
   "outputs": [],
   "source": []
  }
 ],
 "metadata": {
  "kernelspec": {
   "display_name": "Python 3",
   "language": "python",
   "name": "python3"
  },
  "language_info": {
   "codemirror_mode": {
    "name": "ipython",
    "version": 3
   },
   "file_extension": ".py",
   "mimetype": "text/x-python",
   "name": "python",
   "nbconvert_exporter": "python",
   "pygments_lexer": "ipython3",
   "version": "3.6.10"
  }
 },
 "nbformat": 4,
 "nbformat_minor": 4
}
