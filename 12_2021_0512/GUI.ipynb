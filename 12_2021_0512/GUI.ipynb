{
 "cells": [
  {
   "cell_type": "code",
   "execution_count": 57,
   "metadata": {},
   "outputs": [
    {
     "data": {
      "text/plain": [
       "''"
      ]
     },
     "execution_count": 57,
     "metadata": {},
     "output_type": "execute_result"
    }
   ],
   "source": [
    "import tkinter as tk \n",
    "\n",
    "app = tk.Tk() #建立視窗\n",
    "app.title('FER') #建立視窗標題\n",
    "app.geometry('280x520') #建立視窗大小\n"
   ]
  },
  {
   "cell_type": "code",
   "execution_count": 58,
   "metadata": {},
   "outputs": [],
   "source": [
    "#建立畫布與位置\n",
    "frame_title = tk.Frame(app)\n",
    "frame_title.grid(column=0, row=0, ipadx=5, pady=5)\n",
    "\n",
    "frame_input = tk.LabelFrame(app, text='Threshold, Image and Display')\n",
    "frame_input.grid(column=0, row=1, padx=20, sticky=tk.W+tk.N)\n",
    "\n",
    "frame_img = tk.LabelFrame(app, text='Image show')\n",
    "frame_img.grid(column=0, row=2, padx=20, sticky=tk.W+tk.N) \n",
    "\n",
    "frame_output = tk.Frame(app)\n",
    "frame_output.grid(column=0, row=3)\n",
    "\n",
    "# 建立標題與位置\n",
    "label_Title = tk.Label(frame_title,text=\"Facial Expression Recognition\")\n",
    "label_Title.grid(column=0, row=0, ipadx=5, pady=5)\n",
    "\n",
    "label_Subtitle = tk.Label(frame_title,text=\"Please enter the threshold and image.\")\n",
    "label_Subtitle.grid(column=0, row=1, ipadx=5, pady=5)\n",
    "\n",
    "label_input = tk.Label(frame_input,text=\"Label Input\")\n",
    "label_input.grid(column=0, row=0)\n",
    "\n",
    "label_img = tk.Label(frame_img,text=\"Label Img\")\n",
    "label_img.grid(column=0, row=0)\n",
    "\n",
    "label_output = tk.Label(frame_output,text=\"Label Output\")\n",
    "label_output.grid(column=0, row=0)"
   ]
  },
  {
   "cell_type": "code",
   "execution_count": 59,
   "metadata": {},
   "outputs": [],
   "source": [
    "# 範例\n",
    "label = tk.Label(frame_input, text = 'Angry')\n",
    "label.grid(column=0, row=0, ipadx=0, pady=0, sticky=tk.W+tk.N)"
   ]
  },
  {
   "cell_type": "code",
   "execution_count": 60,
   "metadata": {},
   "outputs": [],
   "source": [
    "app.mainloop() #程式開始無限迴圈"
   ]
  },
  {
   "cell_type": "code",
   "execution_count": null,
   "metadata": {},
   "outputs": [],
   "source": []
  }
 ],
 "metadata": {
  "kernelspec": {
   "display_name": "Python 3",
   "language": "python",
   "name": "python3"
  },
  "language_info": {
   "codemirror_mode": {
    "name": "ipython",
    "version": 3
   },
   "file_extension": ".py",
   "mimetype": "text/x-python",
   "name": "python",
   "nbconvert_exporter": "python",
   "pygments_lexer": "ipython3",
   "version": "3.6.10"
  }
 },
 "nbformat": 4,
 "nbformat_minor": 4
}
