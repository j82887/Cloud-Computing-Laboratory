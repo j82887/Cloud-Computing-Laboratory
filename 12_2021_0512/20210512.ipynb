{
 "cells": [
  {
   "cell_type": "code",
   "execution_count": 10,
   "metadata": {},
   "outputs": [],
   "source": [
    "from tensorflow import keras\n",
    "import dlib\n",
    "import cv2\n",
    "import numpy as np\n",
    "\n",
    "model = keras.models.load_model('model_FER.h5')\n",
    "detector = dlib.get_frontal_face_detector()\n",
    "expression_dict = {0: \"Angry\", 1: \"Disgust\", 2: \"Fear\", 3: \"Happy\", 4: \"Sad\", 5: \"Surprise\", 6: \"Neutral\"}\n",
    "colors = [(0,0,255),(0,0,0),(135,138,128),(18,153,255),(255,0,0),(240,32,160),(0,255,0)]"
   ]
  },
  {
   "cell_type": "markdown",
   "metadata": {},
   "source": [
    "## 01. 建立GUI介面"
   ]
  },
  {
   "cell_type": "code",
   "execution_count": 1,
   "metadata": {},
   "outputs": [
    {
     "data": {
      "text/plain": [
       "''"
      ]
     },
     "execution_count": 1,
     "metadata": {},
     "output_type": "execute_result"
    }
   ],
   "source": [
    "import tkinter as tk \n",
    "from tkinter.filedialog import askopenfilename\n",
    "from PIL import ImageTk, Image \n",
    "\n",
    "app = tk.Tk() #建立視窗\n",
    "app.title('FER') #建立視窗標題\n",
    "app.geometry('280x520') #建立視窗大小"
   ]
  },
  {
   "cell_type": "code",
   "execution_count": 2,
   "metadata": {},
   "outputs": [],
   "source": [
    "#建立畫布與位置\n",
    "frame_title = tk.Frame(app)\n",
    "frame_title.grid(column=0, row=0, ipadx=5, pady=5)\n",
    "\n",
    "frame_input = tk.LabelFrame(app, text='Threshold, Image and Display')\n",
    "frame_input.grid(column=0, row=1, padx=20, sticky=tk.W+tk.N)\n",
    "\n",
    "frame_img = tk.LabelFrame(app, text='Image show')\n",
    "frame_img.grid(column=0, row=2, padx=20, sticky=tk.W+tk.N) \n",
    "\n",
    "frame_output = tk.Frame(app)\n",
    "frame_output.grid(column=0, row=3)\n",
    "\n",
    "# 建立標題與位置\n",
    "label_Title = tk.Label(frame_title,text=\"Facial Expression Recognition\")\n",
    "label_Title.grid(column=0, row=0, ipadx=5, pady=5)\n",
    "\n",
    "label_Subtitle = tk.Label(frame_title,text=\"Please enter the threshold and image.\")\n",
    "label_Subtitle.grid(column=0, row=1, ipadx=5, pady=5)"
   ]
  },
  {
   "cell_type": "code",
   "execution_count": null,
   "metadata": {},
   "outputs": [],
   "source": [
    "# 範例1 放置標籤，並顯示佈局\n",
    "label_input = tk.Label(frame_input,text=\"Label Input\")\n",
    "label_input.grid(column=0, row=0)\n",
    "\n",
    "label_img = tk.Label(frame_img,text=\"Label Img\")\n",
    "label_img.grid(column=0, row=0)\n",
    "\n",
    "label_output = tk.Label(frame_output,text=\"Label Output\")\n",
    "label_output.grid(column=0, row=0)"
   ]
  },
  {
   "cell_type": "code",
   "execution_count": null,
   "metadata": {},
   "outputs": [],
   "source": [
    "# 範例2-1 單個標籤\n",
    "label = tk.Label(frame_input, text = 'Angry')\n",
    "label.grid(column=0, row=0, ipadx=0, pady=0, sticky=tk.W+tk.N)"
   ]
  },
  {
   "cell_type": "code",
   "execution_count": null,
   "metadata": {},
   "outputs": [],
   "source": [
    "# 範例2-2 多個標籤\n",
    "label_name = ['Angry', 'Disgusted', 'Fearful', 'Happy', 'Sad', 'Surprised', 'Neutral']\n",
    "\n",
    "for i in range(len(label_name)):\n",
    "    label = tk.Label(frame_input,text = label_name[i])\n",
    "    label.grid(column=0, row=i, ipadx=5, pady=5, sticky=tk.W+tk.N)"
   ]
  },
  {
   "cell_type": "code",
   "execution_count": null,
   "metadata": {},
   "outputs": [],
   "source": [
    "# 範例3-1 單個輸入欄\n",
    "entry = tk.Entry(frame_input, width=10)\n",
    "entry.grid(column=1, row=0, padx=10, pady=5, sticky=tk.N)"
   ]
  },
  {
   "cell_type": "code",
   "execution_count": null,
   "metadata": {},
   "outputs": [],
   "source": [
    "# 範例3-2 多個輸入欄\n",
    "entry_list = []\n",
    "\n",
    "for i in range(len(label_name)):\n",
    "    TkEntry = tk.Entry(frame_input, width=10)\n",
    "    entry_list.append(TkEntry)\n",
    "    entry_list[i].grid(column=1, row=i, padx=10, pady=5, sticky=tk.N)"
   ]
  },
  {
   "cell_type": "code",
   "execution_count": null,
   "metadata": {},
   "outputs": [],
   "source": [
    "# 範例4-1 單個按鈕\n",
    "button = tk.Button(frame_input, text = 'Open Image', command = None)\n",
    "button.grid(column=2, row=i, padx=10, pady=5, sticky=tk.N)"
   ]
  },
  {
   "cell_type": "code",
   "execution_count": null,
   "metadata": {},
   "outputs": [],
   "source": [
    "# 範例4-2 多個按鈕\n",
    "button_list = []\n",
    "\n",
    "for i in range(len(label_name)):\n",
    "    TkButton = tk.Button(frame_input, text = 'Open Image', command = None)\n",
    "    button_list.append(TkButton) \n",
    "    button_list[i].grid(column=2, row=i, padx=10, pady=5, sticky=tk.N)"
   ]
  },
  {
   "cell_type": "code",
   "execution_count": null,
   "metadata": {},
   "outputs": [],
   "source": [
    "# 範例4-1 單個多選勾選框\n",
    "chkValue = tk.BooleanVar() \n",
    "chkValue.set(False)\n",
    "chkb = tk.Checkbutton(frame_input, text=None, var=chkValue) \n",
    "chkb.grid(column=3, row=0, padx=10, pady=5, sticky=tk.W)"
   ]
  },
  {
   "cell_type": "code",
   "execution_count": null,
   "metadata": {},
   "outputs": [],
   "source": [
    "# 範例4-2 多個多選勾選框\n",
    "chk_Var_list = []\n",
    "for i in range(len(label_name)):\n",
    "    chkValue = tk.BooleanVar() \n",
    "    chkValue.set(False)\n",
    "    chk_Var_list.append(chkValue)\n",
    "    chkb = tk.Checkbutton(frame_input, text=None, var=chk_Var_list[i]) \n",
    "    chkb.grid(column=3, row=i, padx=10, pady=5, sticky=tk.W) "
   ]
  },
  {
   "cell_type": "code",
   "execution_count": null,
   "metadata": {},
   "outputs": [],
   "source": [
    "# 範例5-1 單個圖片\n",
    "img_path_Angry = \"Image_fer/00_Angry_Second.png\"\n",
    "\n",
    "img = Image.open(img_path_Angry).resize((40,40))\n",
    "imgtk = ImageTk.PhotoImage(img)\n",
    "label_img = tk.Label(frame_img, image=imgtk)\n",
    "label_img.grid(column=i, row=0, ipadx=5, pady=5)"
   ]
  },
  {
   "cell_type": "code",
   "execution_count": null,
   "metadata": {},
   "outputs": [],
   "source": [
    "# 範例5-2 多個圖片\n",
    "img_path = [\"Image_fer/00_Angry_Second.png\",\n",
    "            \"Image_fer/01_Disgust_Second.png\",\n",
    "            \"Image_fer/02_Fear_Second.png\",\n",
    "            \"Image_fer/03_Happy_Second.png\",\n",
    "            \"Image_fer/04_Sad_Second.png\",\n",
    "            \"Image_fer/05_Surprise_Second.png\",\n",
    "            \"Image_fer/06_Neutral_Second.png\"]\n",
    "\n",
    "imgtk_list, label_img_list = [], []\n",
    "\n",
    "for i in range(len(label_name)):\n",
    "    img = Image.open(img_path[i]).resize((40,40))\n",
    "    imgtk = ImageTk.PhotoImage(img)\n",
    "    imgtk_list.append(imgtk)\n",
    "    label_img = tk.Label(frame_img, image=imgtk_list[i])\n",
    "    label_img_list.append(label_img)\n",
    "    label_img_list[i].grid(column=i, row=0, ipadx=5, pady=5) "
   ]
  },
  {
   "cell_type": "code",
   "execution_count": null,
   "metadata": {},
   "outputs": [],
   "source": [
    "# 範例6 多個Tk String變數\n",
    "imgpath_Var = []\n",
    "for i in range(len(label_name)):\n",
    "    var = tk.StringVar()\n",
    "    imgpath_Var.append(var)"
   ]
  },
  {
   "cell_type": "code",
   "execution_count": 3,
   "metadata": {},
   "outputs": [],
   "source": [
    "# 將有迴圈的多個控件進行總整理\n",
    "label_name = ['Angry', 'Disgusted', 'Fearful', 'Happy', 'Sad', 'Surprised', 'Neutral']\n",
    "img_path = [\"Image_fer/00_Angry_Second.png\",\n",
    "            \"Image_fer/01_Disgust_Second.png\",\n",
    "            \"Image_fer/02_Fear_Second.png\",\n",
    "            \"Image_fer/03_Happy_Second.png\",\n",
    "            \"Image_fer/04_Sad_Second.png\",\n",
    "            \"Image_fer/05_Surprise_Second.png\",\n",
    "            \"Image_fer/06_Neutral_Second.png\"]\n",
    "\n",
    "fun_command = [open_img_Angry, open_img_Disgusted, open_img_Fearful, open_img_Happy, \n",
    "               open_img_Sad, open_img_Surprised, open_img_Neutral] # 額外新增\n",
    "\n",
    "entry_list, button_list, chk_Var_list, imgtk_list, label_img_list, imgpath_Var = [],[],[],[],[],[]\n",
    "\n",
    "for i in range(len(label_name)):\n",
    "    label = tk.Label(frame_input,text = label_name[i])\n",
    "    label.grid(column=0, row=i, ipadx=5, pady=5, sticky=tk.W+tk.N)\n",
    "    TkEntry = tk.Entry(frame_input, width=10)\n",
    "    entry_list.append(TkEntry)\n",
    "    entry_list[i].grid(column=1, row=i, padx=10, pady=5, sticky=tk.N)\n",
    "    TkButton = tk.Button(frame_input, text = 'Open Image', command = fun_command[i]) #原本為command = None\n",
    "    button_list.append(TkButton) \n",
    "    button_list[i].grid(column=2, row=i, padx=10, pady=5, sticky=tk.N)\n",
    "    chkValue = tk.BooleanVar() \n",
    "    chkValue.set(False)\n",
    "    chk_Var_list.append(chkValue)\n",
    "    chkb = tk.Checkbutton(frame_input, text=None, var=chk_Var_list[i]) \n",
    "    chkb.grid(column=3, row=i, padx=10, pady=5, sticky=tk.W)\n",
    "    img = Image.open(img_path[i]).resize((40,40))\n",
    "    imgtk = ImageTk.PhotoImage(img)\n",
    "    imgtk_list.append(imgtk)\n",
    "    label_img = tk.Label(frame_img, image=imgtk_list[i])\n",
    "    label_img_list.append(label_img)\n",
    "    label_img_list[i].grid(column=i, row=0, ipadx=5, pady=5)\n",
    "    var = tk.StringVar()\n",
    "    imgpath_Var.append(var)"
   ]
  },
  {
   "cell_type": "code",
   "execution_count": 11,
   "metadata": {},
   "outputs": [],
   "source": [
    "# 建立觸發開啟攝影機的按鈕與位置\n",
    "result_Button = tk.Button(frame_output, text = 'Get Result',command = open_viedo)\n",
    "result_Button.grid(column=0, row=0, pady=10)\n",
    "\n",
    "# 建立清空輸入欄的按鈕與位置\n",
    "clear_button = tk.Button(frame_output, text=\" Clear text\", command = clear_text)\n",
    "clear_button.grid(column=1, row=0, pady=10)"
   ]
  },
  {
   "cell_type": "code",
   "execution_count": 12,
   "metadata": {},
   "outputs": [],
   "source": [
    "app.mainloop() #程式開始無限迴圈"
   ]
  },
  {
   "cell_type": "markdown",
   "metadata": {},
   "source": [
    "## 02. 建立按鈕的觸發事件"
   ]
  },
  {
   "cell_type": "markdown",
   "metadata": {},
   "source": [
    "### A. 更換影像"
   ]
  },
  {
   "cell_type": "code",
   "execution_count": 4,
   "metadata": {},
   "outputs": [],
   "source": [
    "def open_img_Angry():\n",
    "    filename = askopenfilename(title='Select file', filetypes=[(\"all files\",\"*.*\"),(\"png files\",\"*.png\"),(\"jpg files\",\"*.jpg\"),(\"jpeg files\",\"*.jpeg\")])\n",
    "    imgtk = ImageTk.PhotoImage(Image.open(filename).resize((40,40)))\n",
    "    label_img_list[0].config(image = imgtk)\n",
    "    label_img_list[0].image = imgtk\n",
    "    imgpath_Var[0].set(filename)\n",
    "\n",
    "def open_img_Disgusted():\n",
    "    filename = askopenfilename(title='Select file', filetypes=[(\"all files\",\"*.*\"),(\"png files\",\"*.png\"),(\"jpg files\",\"*.jpg\"),(\"jpeg files\",\"*.jpeg\")])\n",
    "    imgtk = ImageTk.PhotoImage(Image.open(filename).resize((40,40)))\n",
    "    label_img_list[1].config(image = imgtk)\n",
    "    label_img_list[1].image = imgtk\n",
    "    imgpath_Var[1].set(filename)\n",
    "    \n",
    "def open_img_Fearful(): \n",
    "    filename = askopenfilename(title='Select file', filetypes=[(\"all files\",\"*.*\"),(\"png files\",\"*.png\"),(\"jpg files\",\"*.jpg\"),(\"jpeg files\",\"*.jpeg\")])\n",
    "    imgtk = ImageTk.PhotoImage(Image.open(filename).resize((40,40)))\n",
    "    label_img_list[2].config(image = imgtk)\n",
    "    label_img_list[2].image = imgtk\n",
    "    imgpath_Var[2].set(filename)\n",
    "    \n",
    "def open_img_Happy():\n",
    "    filename = askopenfilename(title='Select file', filetypes=[(\"all files\",\"*.*\"),(\"png files\",\"*.png\"),(\"jpg files\",\"*.jpg\"),(\"jpeg files\",\"*.jpeg\")])\n",
    "    imgtk = ImageTk.PhotoImage(Image.open(filename).resize((40,40)))\n",
    "    label_img_list[3].config(image = imgtk)\n",
    "    label_img_list[3].image = imgtk\n",
    "    imgpath_Var[3].set(filename)\n",
    "    \n",
    "def open_img_Sad():\n",
    "    filename = askopenfilename(title='Select file', filetypes=[(\"all files\",\"*.*\"),(\"png files\",\"*.png\"),(\"jpg files\",\"*.jpg\"),(\"jpeg files\",\"*.jpeg\")])\n",
    "    imgtk = ImageTk.PhotoImage(Image.open(filename).resize((40,40)))\n",
    "    label_img_list[4].config(image = imgtk)\n",
    "    label_img_list[4].image = imgtk\n",
    "    imgpath_Var[4].set(filename)\n",
    "    \n",
    "def open_img_Surprised():\n",
    "    filename = askopenfilename(title='Select file', filetypes=[(\"all files\",\"*.*\"),(\"png files\",\"*.png\"),(\"jpg files\",\"*.jpg\"),(\"jpeg files\",\"*.jpeg\")])\n",
    "    imgtk = ImageTk.PhotoImage(Image.open(filename).resize((40,40)))\n",
    "    label_img_list[5].config(image = imgtk)\n",
    "    label_img_list[5].image = imgtk\n",
    "    imgpath_Var[5].set(filename)\n",
    "    \n",
    "def open_img_Neutral():\n",
    "    filename = askopenfilename(title='Select file', filetypes=[(\"all files\",\"*.*\"),(\"png files\",\"*.png\"),(\"jpg files\",\"*.jpg\"),(\"jpeg files\",\"*.jpeg\")])\n",
    "    imgtk = ImageTk.PhotoImage(Image.open(filename).resize((40,40)))\n",
    "    label_img_list[6].config(image = imgtk)\n",
    "    label_img_list[6].image = imgtk\n",
    "    imgpath_Var[6].set(filename)"
   ]
  },
  {
   "cell_type": "markdown",
   "metadata": {},
   "source": [
    "### B. 一鍵清空輸入欄"
   ]
  },
  {
   "cell_type": "code",
   "execution_count": 5,
   "metadata": {},
   "outputs": [],
   "source": [
    "# Tkinter 文字框控制元件具有 delete(first，last = None) 方法，可從文字框中刪除 first 索引處或 (first，last) 範圍內的字元。\n",
    "def clear_text():\n",
    "    for i in range(len(label_name)):\n",
    "        entry_list[i].delete('0', 'end')"
   ]
  },
  {
   "cell_type": "markdown",
   "metadata": {},
   "source": [
    "### C. 開啟攝影機"
   ]
  },
  {
   "cell_type": "code",
   "execution_count": 6,
   "metadata": {},
   "outputs": [],
   "source": [
    "def open_viedo():\n",
    "    VIDEO_IN = cv2.VideoCapture(0)\n",
    "    while True:\n",
    "        hasFrame, img = VIDEO_IN.read()\n",
    "        img = cv2.resize(img, None, fx=0.5, fy=0.5)\n",
    "        img = face_check(img)\n",
    "        cv2.imshow(\"Frame\", img)\n",
    "    \n",
    "        if cv2.waitKey(1) & 0xFF == ord('q'):\n",
    "            break\n",
    "        \n",
    "    VIDEO_IN.release()\n",
    "    cv2.destroyAllWindows()"
   ]
  },
  {
   "cell_type": "markdown",
   "metadata": {},
   "source": [
    "### D. 人臉預測：轉灰階與列表"
   ]
  },
  {
   "cell_type": "code",
   "execution_count": 7,
   "metadata": {},
   "outputs": [],
   "source": [
    "def detect_faces(frame):\n",
    "    gray = cv2.cvtColor(frame, cv2.COLOR_BGR2GRAY)\n",
    "    face = detector(frame)\n",
    "    faces = []\n",
    "    for i in range(len(face)):\n",
    "        x = face[i].left()\n",
    "        y = face[i].top()\n",
    "        w = face[i].right()-face[i].left()\n",
    "        h = face[i].bottom()-face[i].top()\n",
    "        if x<0:\n",
    "            x = 0\n",
    "        if y<0:\n",
    "            y = 0\n",
    "        faces.append((x, y, w, h))\n",
    "    return gray, faces"
   ]
  },
  {
   "cell_type": "markdown",
   "metadata": {},
   "source": [
    "### E. 表情預測：前處理, 形狀轉換, 模型預測, 繪製框與文字, 貼表情圖"
   ]
  },
  {
   "cell_type": "code",
   "execution_count": 8,
   "metadata": {},
   "outputs": [],
   "source": [
    "def face_check(frame):\n",
    "    gray, faces = detect_faces(frame)\n",
    "    for (x, y, w, h) in faces:\n",
    "        roi_gray = gray[y:y + h, x:x + w]\n",
    "        cropped_img = np.expand_dims(np.expand_dims(cv2.resize(roi_gray,(48, 48)),-1), 0)\n",
    "        prediction = model.predict(cropped_img)[0]\n",
    "        pred_list = prediction.tolist()\n",
    "        pred_max = max(pred_list)\n",
    "        index = pred_list.index(pred_max)\n",
    "        cv2.rectangle(frame, (x, y), (x+w, y+h), (0, 0, 255), 4)\n",
    "        cv2.putText(frame,\"{}: {}\".format(expression_dict[index],round(pred_max,3)),(x, y-10),cv2.FONT_HERSHEY_SIMPLEX,0.5,colors[index],2)\n",
    "        frame = face_post(frame, (x, y), w, expression_dict[index])\n",
    "    return frame"
   ]
  },
  {
   "cell_type": "markdown",
   "metadata": {},
   "source": [
    "### F. 貼表情圖"
   ]
  },
  {
   "cell_type": "code",
   "execution_count": 9,
   "metadata": {},
   "outputs": [],
   "source": [
    "def face_post(frame, top_left, width, prediction):\n",
    "    if prediction ==\"Angry\":\n",
    "        if imgpath_Var[0].get()!= \"\":\n",
    "            img = cv2.imread(imgpath_Var[0].get())\n",
    "        else:\n",
    "            img = cv2.imread(img_path[0])\n",
    "    if prediction ==\"Disgust\":\n",
    "        if imgpath_Var[1].get()!= \"\":\n",
    "            img = cv2.imread(imgpath_Var[1].get())\n",
    "        else:\n",
    "            img = cv2.imread(img_path[1])\n",
    "    if prediction ==\"Fear\":\n",
    "        if imgpath_Var[2].get()!= \"\":\n",
    "            img = cv2.imread(imgpath_Var[2].get())\n",
    "        else:\n",
    "            img = cv2.imread(img_path[2])\n",
    "    if prediction ==\"Happy\":\n",
    "        if imgpath_Var[3].get()!= \"\":\n",
    "            img = cv2.imread(imgpath_Var[3].get())\n",
    "        else:\n",
    "            img = cv2.imread(img_path[3])\n",
    "    if prediction ==\"Sad\":\n",
    "        if imgpath_Var[4].get()!= \"\":\n",
    "            img = cv2.imread(imgpath_Var[4].get())\n",
    "        else:\n",
    "            img = cv2.imread(img_path[4])\n",
    "    if prediction ==\"Surprise\":\n",
    "        if imgpath_Var[5].get()!= \"\":\n",
    "            img = cv2.imread(imgpath_Var[5].get())\n",
    "        else:\n",
    "            img = cv2.imread(img_path[5])\n",
    "    if prediction ==\"Neutral\":\n",
    "        if imgpath_Var[6].get()!= \"\":\n",
    "            img = cv2.imread(imgpath_Var[6].get())\n",
    "        else:\n",
    "            img = cv2.imread(img_path[6])\n",
    "    img_wh = int(width/2)\n",
    "    img = cv2.resize(img, (img_wh,img_wh))\n",
    "        \n",
    "    img_top_left = (int(top_left[0]-img_wh),int(top_left[1]))\n",
    "    img_bottom_right = (int(top_left[0]),int(top_left[1]+img_wh))\n",
    "    \n",
    "    if img_top_left[0]>0 and img_top_left[1]>0:\n",
    "        img_gray = cv2.cvtColor(img, cv2.COLOR_BGR2GRAY)\n",
    "        _, mask = cv2.threshold(img_gray, 25, 255, cv2.THRESH_BINARY_INV)\n",
    "        area = frame[img_top_left[1]: img_top_left[1]+img_wh, img_top_left[0]: img_top_left[0]+img_wh]\n",
    "        area_no = cv2.bitwise_and(area, area, mask = mask)\n",
    "        final = cv2.add(area_no, img)\n",
    "        frame[img_top_left[1]: img_top_left[1]+img_wh, img_top_left[0]: img_top_left[0]+img_wh] = final\n",
    "\n",
    "    return frame"
   ]
  },
  {
   "cell_type": "code",
   "execution_count": null,
   "metadata": {},
   "outputs": [],
   "source": []
  }
 ],
 "metadata": {
  "kernelspec": {
   "display_name": "Python 3",
   "language": "python",
   "name": "python3"
  },
  "language_info": {
   "codemirror_mode": {
    "name": "ipython",
    "version": 3
   },
   "file_extension": ".py",
   "mimetype": "text/x-python",
   "name": "python",
   "nbconvert_exporter": "python",
   "pygments_lexer": "ipython3",
   "version": "3.6.10"
  }
 },
 "nbformat": 4,
 "nbformat_minor": 4
}
