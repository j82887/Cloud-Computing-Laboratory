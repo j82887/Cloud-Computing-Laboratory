{
 "cells": [
  {
   "cell_type": "markdown",
   "metadata": {},
   "source": [
    "## 01. 建立GUI介面"
   ]
  },
  {
   "cell_type": "code",
   "execution_count": 1,
   "metadata": {},
   "outputs": [
    {
     "data": {
      "text/plain": [
       "''"
      ]
     },
     "execution_count": 1,
     "metadata": {},
     "output_type": "execute_result"
    }
   ],
   "source": [
    "import tkinter as tk \n",
    "from PIL import ImageTk, Image \n",
    "\n",
    "app = tk.Tk() #建立視窗\n",
    "app.title('FER') #建立視窗標題\n",
    "app.geometry('280x520') #建立視窗大小"
   ]
  },
  {
   "cell_type": "code",
   "execution_count": 2,
   "metadata": {},
   "outputs": [],
   "source": [
    "#建立畫布與位置\n",
    "frame_title = tk.Frame(app)\n",
    "frame_title.grid(column=0, row=0, ipadx=5, pady=5)\n",
    "\n",
    "frame_input = tk.LabelFrame(app, text='Threshold, Image and Display')\n",
    "frame_input.grid(column=0, row=1, padx=20, sticky=tk.W+tk.N)\n",
    "\n",
    "frame_img = tk.LabelFrame(app, text='Image show')\n",
    "frame_img.grid(column=0, row=2, padx=20, sticky=tk.W+tk.N) \n",
    "\n",
    "frame_output = tk.Frame(app)\n",
    "frame_output.grid(column=0, row=3)\n",
    "\n",
    "# 建立標題與位置\n",
    "label_Title = tk.Label(frame_title,text=\"Facial Expression Recognition\")\n",
    "label_Title.grid(column=0, row=0, ipadx=5, pady=5)\n",
    "\n",
    "label_Subtitle = tk.Label(frame_title,text=\"Please enter the threshold and image.\")\n",
    "label_Subtitle.grid(column=0, row=1, ipadx=5, pady=5)"
   ]
  },
  {
   "cell_type": "code",
   "execution_count": null,
   "metadata": {},
   "outputs": [],
   "source": [
    "# 範例1 放置標籤，並顯示佈局\n",
    "label_input = tk.Label(frame_input,text=\"Label Input\")\n",
    "label_input.grid(column=0, row=0)\n",
    "\n",
    "label_img = tk.Label(frame_img,text=\"Label Img\")\n",
    "label_img.grid(column=0, row=0)\n",
    "\n",
    "label_output = tk.Label(frame_output,text=\"Label Output\")\n",
    "label_output.grid(column=0, row=0)"
   ]
  },
  {
   "cell_type": "code",
   "execution_count": null,
   "metadata": {},
   "outputs": [],
   "source": [
    "# 範例2 單個標籤\n",
    "label = tk.Label(frame_input, text = 'Angry')\n",
    "label.grid(column=0, row=0, ipadx=0, pady=0, sticky=tk.W+tk.N)"
   ]
  },
  {
   "cell_type": "code",
   "execution_count": null,
   "metadata": {},
   "outputs": [],
   "source": [
    "label_name = ['Angry', 'Disgusted', 'Fearful', 'Happy', 'Sad', 'Surprised', 'Neutral']\n",
    "\n",
    "for i in range(len(label_name)):\n",
    "    label = tk.Label(frame_input,text = label_name[i])\n",
    "    label.grid(column=0, row=i, ipadx=5, pady=5, sticky=tk.W+tk.N)"
   ]
  },
  {
   "cell_type": "code",
   "execution_count": null,
   "metadata": {},
   "outputs": [],
   "source": [
    "# 範例3 單個輸入欄\n",
    "entry = tk.Entry(frame_input, width=10)\n",
    "entry.grid(column=1, row=0, padx=10, pady=5, sticky=tk.N)"
   ]
  },
  {
   "cell_type": "code",
   "execution_count": null,
   "metadata": {},
   "outputs": [],
   "source": [
    "entry_list = []\n",
    "\n",
    "for i in range(len(label_name)):\n",
    "    TkEntry = tk.Entry(frame_input, width=10)\n",
    "    entry_list.append(TkEntry)\n",
    "    entry_list[i].grid(column=1, row=i, padx=10, pady=5, sticky=tk.N)"
   ]
  },
  {
   "cell_type": "code",
   "execution_count": null,
   "metadata": {},
   "outputs": [],
   "source": [
    "# 範例4 單個按鈕\n",
    "button = tk.Button(frame_input, text = 'Open Image', command = None)\n",
    "button.grid(column=2, row=i, padx=10, pady=5, sticky=tk.N)"
   ]
  },
  {
   "cell_type": "code",
   "execution_count": null,
   "metadata": {},
   "outputs": [],
   "source": [
    "button_list = []\n",
    "\n",
    "for i in range(len(label_name)):\n",
    "    TkButton = tk.Button(frame_input, text = 'Open Image', command = None)\n",
    "    button_list.append(TkButton) \n",
    "    button_list[i].grid(column=2, row=i, padx=10, pady=5, sticky=tk.N)"
   ]
  },
  {
   "cell_type": "code",
   "execution_count": null,
   "metadata": {},
   "outputs": [],
   "source": [
    "# 範例4 單個多選按鈕\n",
    "chkValue = tk.BooleanVar() \n",
    "chkValue.set(False)\n",
    "chkb = tk.Checkbutton(frame_input, text=None, var=chkValue) \n",
    "chkb.grid(column=3, row=0, padx=10, pady=5, sticky=tk.W)"
   ]
  },
  {
   "cell_type": "code",
   "execution_count": null,
   "metadata": {},
   "outputs": [],
   "source": [
    "chk_Var_list = []\n",
    "for i in range(len(label_name)):\n",
    "    chkValue = tk.BooleanVar() \n",
    "    chkValue.set(False)\n",
    "    chk_Var_list.append(chkValue)\n",
    "    chkb = tk.Checkbutton(frame_input, text=None, var=chk_Var_list[i]) \n",
    "    chkb.grid(column=3, row=i, padx=10, pady=5, sticky=tk.W) "
   ]
  },
  {
   "cell_type": "code",
   "execution_count": null,
   "metadata": {},
   "outputs": [],
   "source": [
    "# 範例5 單個圖片\n",
    "img_path_Angry = \"Image_fer/00_Angry_Second.png\"\n",
    "\n",
    "img = Image.open(img_path_Angry).resize((40,40))\n",
    "imgtk = ImageTk.PhotoImage(img)\n",
    "label_img = tk.Label(frame_img, image=imgtk)\n",
    "label_img.grid(column=i, row=0, ipadx=5, pady=5)"
   ]
  },
  {
   "cell_type": "code",
   "execution_count": null,
   "metadata": {},
   "outputs": [],
   "source": [
    "img_path = [\"Image_fer/00_Angry_Second.png\",\n",
    "            \"Image_fer/01_Disgust_Second.png\",\n",
    "            \"Image_fer/02_Fear_Second.png\",\n",
    "            \"Image_fer/03_Happy_Second.png\",\n",
    "            \"Image_fer/04_Sad_Second.png\",\n",
    "            \"Image_fer/05_Surprise_Second.png\",\n",
    "            \"Image_fer/06_Neutral_Second.png\"]\n",
    "\n",
    "imgtk_list, label_img_list = [], []\n",
    "\n",
    "for i in range(len(label_name)):\n",
    "    img = Image.open(img_path[i]).resize((40,40))\n",
    "    imgtk = ImageTk.PhotoImage(img)\n",
    "    imgtk_list.append(imgtk)\n",
    "    label_img = tk.Label(frame_img, image=imgtk_list[i])\n",
    "    label_img_list.append(label_img)\n",
    "    label_img_list[i].grid(column=i, row=0, ipadx=5, pady=5) "
   ]
  },
  {
   "cell_type": "code",
   "execution_count": 3,
   "metadata": {},
   "outputs": [],
   "source": [
    "# 將有迴圈的多個控件進行總整理\n",
    "label_name = ['Angry', 'Disgusted', 'Fearful', 'Happy', 'Sad', 'Surprised', 'Neutral']\n",
    "img_path = [\"Image_fer/00_Angry_Second.png\",\n",
    "            \"Image_fer/01_Disgust_Second.png\",\n",
    "            \"Image_fer/02_Fear_Second.png\",\n",
    "            \"Image_fer/03_Happy_Second.png\",\n",
    "            \"Image_fer/04_Sad_Second.png\",\n",
    "            \"Image_fer/05_Surprise_Second.png\",\n",
    "            \"Image_fer/06_Neutral_Second.png\"]\n",
    "entry_list, button_list, chk_Var_list, imgtk_list, label_img_list = [],[],[],[],[]\n",
    "\n",
    "for i in range(len(label_name)):\n",
    "    label = tk.Label(frame_input,text = label_name[i])\n",
    "    label.grid(column=0, row=i, ipadx=5, pady=5, sticky=tk.W+tk.N)\n",
    "    TkEntry = tk.Entry(frame_input, width=10)\n",
    "    entry_list.append(TkEntry)\n",
    "    entry_list[i].grid(column=1, row=i, padx=10, pady=5, sticky=tk.N)\n",
    "    TkButton = tk.Button(frame_input, text = 'Open Image', command = None)\n",
    "    button_list.append(TkButton) \n",
    "    button_list[i].grid(column=2, row=i, padx=10, pady=5, sticky=tk.N)\n",
    "    chkValue = tk.BooleanVar() \n",
    "    chkValue.set(False)\n",
    "    chk_Var_list.append(chkValue)\n",
    "    chkb = tk.Checkbutton(frame_input, text=None, var=chk_Var_list[i]) \n",
    "    chkb.grid(column=3, row=i, padx=10, pady=5, sticky=tk.W)\n",
    "    img = Image.open(img_path[i]).resize((40,40))\n",
    "    imgtk = ImageTk.PhotoImage(img)\n",
    "    imgtk_list.append(imgtk)\n",
    "    label_img = tk.Label(frame_img, image=imgtk_list[i])\n",
    "    label_img_list.append(label_img)\n",
    "    label_img_list[i].grid(column=i, row=0, ipadx=5, pady=5)"
   ]
  },
  {
   "cell_type": "code",
   "execution_count": 4,
   "metadata": {},
   "outputs": [],
   "source": [
    "# 建立觸發開啟攝影機的按鈕與位置\n",
    "result_Button = tk.Button(frame_output, text = 'Get Result',command = None)\n",
    "result_Button.grid(column=0, row=0, pady=10)\n",
    "\n",
    "# 建立清空輸入欄的按鈕與位置\n",
    "clear_button = tk.Button(frame_output, text=\" Clear text\", command = None)\n",
    "clear_button.grid(column=1, row=0, pady=10)"
   ]
  },
  {
   "cell_type": "code",
   "execution_count": 5,
   "metadata": {},
   "outputs": [],
   "source": [
    "app.mainloop() #程式開始無限迴圈"
   ]
  },
  {
   "cell_type": "markdown",
   "metadata": {},
   "source": [
    "## 02. 建立按鈕的觸發事件"
   ]
  },
  {
   "cell_type": "code",
   "execution_count": null,
   "metadata": {},
   "outputs": [],
   "source": []
  }
 ],
 "metadata": {
  "kernelspec": {
   "display_name": "Python 3",
   "language": "python",
   "name": "python3"
  },
  "language_info": {
   "codemirror_mode": {
    "name": "ipython",
    "version": 3
   },
   "file_extension": ".py",
   "mimetype": "text/x-python",
   "name": "python",
   "nbconvert_exporter": "python",
   "pygments_lexer": "ipython3",
   "version": "3.6.10"
  }
 },
 "nbformat": 4,
 "nbformat_minor": 4
}
