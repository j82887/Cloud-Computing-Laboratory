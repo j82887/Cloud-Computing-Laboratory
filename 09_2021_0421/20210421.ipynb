{
 "cells": [
  {
   "cell_type": "code",
   "execution_count": 1,
   "metadata": {},
   "outputs": [],
   "source": [
    "import cv2\n",
    "import matplotlib.pyplot as plt\n",
    "import numpy as np\n",
    "from tensorflow.keras.models import load_model"
   ]
  },
  {
   "cell_type": "code",
   "execution_count": 2,
   "metadata": {},
   "outputs": [],
   "source": [
    "detector = cv2.CascadeClassifier(\"haar_carplate.xml\")\n",
    "cnn = load_model('cnn_model_car.h5')\n",
    "\n",
    "mnist_label_name = [i for i in range(10)]\n",
    "AZ_label_name = [chr(i+65) for i in range(26)]\n",
    "label_name = np.hstack([mnist_label_name, AZ_label_name])"
   ]
  },
  {
   "cell_type": "code",
   "execution_count": null,
   "metadata": {},
   "outputs": [],
   "source": [
    "VIDEO_IN = cv2.VideoCapture(0)\n",
    "while True:\n",
    "    hasFrame, img = VIDEO_IN.read()\n",
    "    cv2.imshow(\"Frame\", img)\n",
    "    if cv2.waitKey(1) & 0xFF == ord('q'):\n",
    "        break\n",
    "VIDEO_IN.release()\n",
    "cv2.destroyAllWindows()"
   ]
  },
  {
   "cell_type": "code",
   "execution_count": 3,
   "metadata": {},
   "outputs": [],
   "source": [
    "VIDEO_IN = cv2.VideoCapture('carvideo.mp4')\n",
    "\n",
    "while True:\n",
    "    hasFrame, img = VIDEO_IN.read()\n",
    "    img = cv2.resize(img, None, fx=1.4, fy=1.4)\n",
    "    signs = detector.detectMultiScale(img, minSize = (76, 20), scaleFactor = 1.1, minNeighbors=8)\n",
    "    if len(signs) > 0:\n",
    "        for (sx, sy, sw, sh) in signs:\n",
    "            crop_img = img[sy:sy+sh, sx:sx+sw]\n",
    "            gray_img = cv2.cvtColor(crop_img, cv2.COLOR_BGR2GRAY)\n",
    "            _, binary_img = cv2.threshold(gray_img, 127, 255, cv2.THRESH_BINARY_INV)\n",
    "                              \n",
    "            save_predict_name = []\n",
    "            save_contours = []\n",
    "            contours, hierarchy = cv2.findContours(binary_img, cv2.RETR_EXTERNAL, cv2.CHAIN_APPROX_SIMPLE)\n",
    "            for i in range(len(contours)):\n",
    "                (x, y, w, h) = cv2.boundingRect(contours[i])\n",
    "                save_contours.append((x, y, w, h))\n",
    "            save_contours = sorted(save_contours, key=lambda x:x[0])\n",
    "        \n",
    "            for (x, y, w, h) in save_contours:\n",
    "                if sw*(3/20)>w>sw*(0.5/20) and sh*(19.5/20)>h>sh*(12/20):\n",
    "                    number = gray_img[y:y+h, x:x+w]\n",
    "                    re_number = cv2.resize(number, (28, 28), interpolation=cv2.INTER_CUBIC)\n",
    "                    intput_number = np.expand_dims(np.expand_dims(re_number.astype('float32')/255,-1),0)\n",
    "                    predict = cnn.predict(intput_number)\n",
    "                    predict_name = label_name[np.argmax(predict)]\n",
    "                    save_predict_name.append(predict_name)\n",
    "            \n",
    "            if len(save_predict_name)>5:\n",
    "                cv2.rectangle(img, (sx, sy), (sx+sw, sy+sh), (0, 0, 255), 2)\n",
    "                cv2.putText(img, \"\".join(save_predict_name), (sx, int(sy-sh/4)), cv2.FONT_HERSHEY_SIMPLEX, 0.8, (0, 0, 255), 2)\n",
    "            else:\n",
    "                cv2.putText(img, \"Not clear\", (20, 30), cv2.FONT_HERSHEY_SIMPLEX, 0.8, (0, 0, 255), 2)\n",
    "    else:\n",
    "        cv2.putText(img, \"No License_Plate\", (20, 30), cv2.FONT_HERSHEY_SIMPLEX, 0.8, (0, 0, 255), 2)\n",
    "    cv2.imshow(\"Frame\", img)\n",
    "    if cv2.waitKey(1) & 0xFF == ord('q'):\n",
    "        break\n",
    "VIDEO_IN.release()\n",
    "cv2.destroyAllWindows()"
   ]
  },
  {
   "cell_type": "code",
   "execution_count": null,
   "metadata": {},
   "outputs": [],
   "source": []
  }
 ],
 "metadata": {
  "kernelspec": {
   "display_name": "Python 3",
   "language": "python",
   "name": "python3"
  },
  "language_info": {
   "codemirror_mode": {
    "name": "ipython",
    "version": 3
   },
   "file_extension": ".py",
   "mimetype": "text/x-python",
   "name": "python",
   "nbconvert_exporter": "python",
   "pygments_lexer": "ipython3",
   "version": "3.6.10"
  }
 },
 "nbformat": 4,
 "nbformat_minor": 4
}
